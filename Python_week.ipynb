{
  "nbformat": 4,
  "nbformat_minor": 0,
  "metadata": {
    "colab": {
      "name": "Python week.ipynb",
      "provenance": [],
      "collapsed_sections": [],
      "authorship_tag": "ABX9TyOVRYit0gmOJ0gZXkXdKUl6",
      "include_colab_link": true
    },
    "kernelspec": {
      "name": "python3",
      "display_name": "Python 3"
    }
  },
  "cells": [
    {
      "cell_type": "markdown",
      "metadata": {
        "id": "view-in-github",
        "colab_type": "text"
      },
      "source": [
        "<a href=\"https://colab.research.google.com/github/LizethIbarra/Spoon-Knife/blob/master/Python_week.ipynb\" target=\"_parent\"><img src=\"https://colab.research.google.com/assets/colab-badge.svg\" alt=\"Open In Colab\"/></a>"
      ]
    },
    {
      "cell_type": "markdown",
      "metadata": {
        "id": "RDIfkeTOXmEa"
      },
      "source": [
        "VARIABLES"
      ]
    },
    {
      "cell_type": "code",
      "metadata": {
        "colab": {
          "base_uri": "https://localhost:8080/"
        },
        "id": "XADImP5KXAQi",
        "outputId": "ac4d24d0-0f4d-4c66-f461-3509fd569c58"
      },
      "source": [
        "num = 125 #enteros, num sin decimales #int \r\n",
        "print(num)\r\n",
        "num2 =128"
      ],
      "execution_count": null,
      "outputs": [
        {
          "output_type": "stream",
          "text": [
            "125\n"
          ],
          "name": "stdout"
        }
      ]
    },
    {
      "cell_type": "code",
      "metadata": {
        "colab": {
          "base_uri": "https://localhost:8080/"
        },
        "id": "DbNFIKeJYW_2",
        "outputId": "4a71321c-fdbd-40aa-ce39-0e5000a39070"
      },
      "source": [
        "print(id(num))\r\n",
        "print(id(num2))"
      ],
      "execution_count": null,
      "outputs": [
        {
          "output_type": "stream",
          "text": [
            "93870968768896\n",
            "93870968768992\n"
          ],
          "name": "stdout"
        }
      ]
    },
    {
      "cell_type": "code",
      "metadata": {
        "id": "hFFXm3agcYYp"
      },
      "source": [
        ""
      ],
      "execution_count": null,
      "outputs": []
    },
    {
      "cell_type": "code",
      "metadata": {
        "colab": {
          "base_uri": "https://localhost:8080/"
        },
        "id": "rZzw1l-5Y1rK",
        "outputId": "1ea618e2-cb2d-4695-bd20-5e7fb0488e6b"
      },
      "source": [
        "cadena = \"Hola mundo\"\r\n",
        "print(cadena)"
      ],
      "execution_count": null,
      "outputs": [
        {
          "output_type": "stream",
          "text": [
            "Hola mundo\n"
          ],
          "name": "stdout"
        }
      ]
    },
    {
      "cell_type": "code",
      "metadata": {
        "colab": {
          "base_uri": "https://localhost:8080/"
        },
        "id": "_3QIkSDKZFLo",
        "outputId": "e8376deb-085e-424c-8879-5e4fc3775ef5"
      },
      "source": [
        "num3=num + num2\r\n",
        "print(num3)"
      ],
      "execution_count": null,
      "outputs": [
        {
          "output_type": "stream",
          "text": [
            "253\n"
          ],
          "name": "stdout"
        }
      ]
    },
    {
      "cell_type": "code",
      "metadata": {
        "colab": {
          "base_uri": "https://localhost:8080/"
        },
        "id": "kZdkJuyjapES",
        "outputId": "dc894b15-a7f4-4935-90ff-aca6f0b2b9eb"
      },
      "source": [
        "a= 10\r\n",
        "a=5\r\n",
        "b= 8\r\n",
        "c= a+b\r\n",
        "print(c)\r\n"
      ],
      "execution_count": null,
      "outputs": [
        {
          "output_type": "stream",
          "text": [
            "13\n"
          ],
          "name": "stdout"
        }
      ]
    },
    {
      "cell_type": "code",
      "metadata": {
        "colab": {
          "base_uri": "https://localhost:8080/"
        },
        "id": "enpSqo6lbfiL",
        "outputId": "d1158f2d-de89-4955-afdf-765b4753e834"
      },
      "source": [
        "saludo = \"Hola\" #str\r\n",
        "print(saludo +'Gracias por seguirme') #concatenar"
      ],
      "execution_count": null,
      "outputs": [
        {
          "output_type": "stream",
          "text": [
            "HolaGracias por seguirme\n"
          ],
          "name": "stdout"
        }
      ]
    },
    {
      "cell_type": "code",
      "metadata": {
        "colab": {
          "base_uri": "https://localhost:8080/"
        },
        "id": "ARpproTCcLyG",
        "outputId": "114ddc53-2053-4f10-b975-dd7e3a8827e5"
      },
      "source": [
        "saludo = \"Hola\" #str\r\n",
        "print(saludo,'Gracias por seguirme')"
      ],
      "execution_count": null,
      "outputs": [
        {
          "output_type": "stream",
          "text": [
            "Hola Gracias por seguirme\n"
          ],
          "name": "stdout"
        }
      ]
    },
    {
      "cell_type": "code",
      "metadata": {
        "colab": {
          "base_uri": "https://localhost:8080/"
        },
        "id": "lipQcmEhcjRg",
        "outputId": "d45f74a9-0226-4a7e-f144-059c1c1962eb"
      },
      "source": [
        "num = 5 #int\r\n",
        "cadena = \"Este numero es: \"#str\r\n",
        "print(cadena,num)"
      ],
      "execution_count": null,
      "outputs": [
        {
          "output_type": "stream",
          "text": [
            "Este numero es:  5\n"
          ],
          "name": "stdout"
        }
      ]
    },
    {
      "cell_type": "code",
      "metadata": {
        "id": "VVXH3Q9tc4iv"
      },
      "source": [
        "#Hola soy un comentario"
      ],
      "execution_count": null,
      "outputs": []
    },
    {
      "cell_type": "code",
      "metadata": {
        "colab": {
          "base_uri": "https://localhost:8080/",
          "height": 52
        },
        "id": "NNmtJAj5c8bq",
        "outputId": "df0debce-a205-48d5-97aa-8aefd9719737"
      },
      "source": [
        "\"\"\"La investigación preliminar sobre la falla \r\n",
        "del motor del Boeing 777 en Denver apunta a que\r\n",
        " una de las pzalas del motor derecho del avión \r\n",
        " se soltó, golpeando otra que estaba rota.\"\"\"\r\n",
        "  "
      ],
      "execution_count": null,
      "outputs": [
        {
          "output_type": "execute_result",
          "data": {
            "application/vnd.google.colaboratory.intrinsic+json": {
              "type": "string"
            },
            "text/plain": [
              "'La investigación preliminar sobre la falla \\ndel motor del Boeing 777 en Denver apunta a que\\n una de las pzalas del motor derecho del avión \\n se soltó, golpeando otra que estaba rota.'"
            ]
          },
          "metadata": {
            "tags": []
          },
          "execution_count": 21
        }
      ]
    },
    {
      "cell_type": "code",
      "metadata": {
        "colab": {
          "base_uri": "https://localhost:8080/"
        },
        "id": "MJUemzIQdi4D",
        "outputId": "22604da5-04cf-4972-8fdb-86dc5bdc7aa1"
      },
      "source": [
        "print(\"Hola \" + 'mundo')\r\n",
        "print(\"Hola\" , 'mundo')\r\n"
      ],
      "execution_count": null,
      "outputs": [
        {
          "output_type": "stream",
          "text": [
            "Hola mundo\n",
            "Hola mundo\n"
          ],
          "name": "stdout"
        }
      ]
    },
    {
      "cell_type": "code",
      "metadata": {
        "colab": {
          "base_uri": "https://localhost:8080/"
        },
        "id": "53SM6MUAenTi",
        "outputId": "0b497c4d-d5e1-4642-be10-fb62ef8847b5"
      },
      "source": [
        "cad = \"\"\"\r\n",
        "La investigación preliminar sobre \r\n",
        "la falla del motor del Boeing 777 en Denver \r\n",
        "apunta a que una de las pzalas del motor \r\n",
        "derecho del avión se soltó, golpeando otra \r\n",
        "que estaba rota\"\"\"\r\n",
        "print(cad)"
      ],
      "execution_count": null,
      "outputs": [
        {
          "output_type": "stream",
          "text": [
            "\n",
            "La investigación preliminar sobre \n",
            "la falla del motor del Boeing 777 en Denver \n",
            "apunta a que una de las pzalas del motor \n",
            "derecho del avión se soltó, golpeando otra \n",
            "que estaba rota\n"
          ],
          "name": "stdout"
        }
      ]
    },
    {
      "cell_type": "code",
      "metadata": {
        "colab": {
          "base_uri": "https://localhost:8080/"
        },
        "id": "w5vF6ntZfPgk",
        "outputId": "b99ed17b-0237-4eca-e51c-8be86f537a04"
      },
      "source": [
        "print(\"hola \" *3) "
      ],
      "execution_count": null,
      "outputs": [
        {
          "output_type": "stream",
          "text": [
            "hola hola hola \n"
          ],
          "name": "stdout"
        }
      ]
    },
    {
      "cell_type": "code",
      "metadata": {
        "colab": {
          "base_uri": "https://localhost:8080/"
        },
        "id": "VlOSYa29fXaN",
        "outputId": "e3d28e96-2348-4ad2-926e-f1cbd35a0a70"
      },
      "source": [
        "base = 10.5 #float o decimal\r\n",
        "altura =3.6 # punto flotante\r\n",
        "area= base*altura\r\n",
        "print(area)\r\n",
        "print(type(area))"
      ],
      "execution_count": null,
      "outputs": [
        {
          "output_type": "stream",
          "text": [
            "37.800000000000004\n",
            "<class 'float'>\n"
          ],
          "name": "stdout"
        }
      ]
    },
    {
      "cell_type": "code",
      "metadata": {
        "colab": {
          "base_uri": "https://localhost:8080/"
        },
        "id": "dMy06po2hQJc",
        "outputId": "9a9067eb-9c91-43c2-86e3-661dc8200ac9"
      },
      "source": [
        "menos_decimales = round(area, 5)\r\n",
        "print(menos_decimales)"
      ],
      "execution_count": null,
      "outputs": [
        {
          "output_type": "stream",
          "text": [
            "37.8\n"
          ],
          "name": "stdout"
        }
      ]
    },
    {
      "cell_type": "code",
      "metadata": {
        "colab": {
          "base_uri": "https://localhost:8080/"
        },
        "id": "odCJvD7thmMg",
        "outputId": "96015a81-8683-4e74-d4b1-ed34b21bece0"
      },
      "source": [
        "cad = \"hola\" #str\r\n",
        "num1 = 5 #int\r\n",
        "num2 = 5.6 #float\r\n",
        "bool1 = True\r\n",
        "bool2 = False #bool\r\n",
        "listas = [\"a\", 9, 5.8, True, [1, 5], (\"a\", \"b\")] #list dato mutable\r\n",
        "tuplas = (\"a\", 9, 5.8, True) #tupla= no se cambian valores\r\n",
        "dicci = {\"lizeth\": \"8180148479\", \"Monse\": \"8819871223\"} #diccionario {llave o clave: numero al que accedo o valor}\r\n",
        "print(listas)"
      ],
      "execution_count": null,
      "outputs": [
        {
          "output_type": "stream",
          "text": [
            "['a', 9, 5.8, True, [1, 5], ('a', 'b')]\n"
          ],
          "name": "stdout"
        }
      ]
    }
  ]
}